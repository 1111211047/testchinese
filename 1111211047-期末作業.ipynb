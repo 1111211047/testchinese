{
 "cells": [
  {
   "cell_type": "code",
   "execution_count": 2,
   "id": "5a6ef15a",
   "metadata": {},
   "outputs": [
    {
     "name": "stdout",
     "output_type": "stream",
     "text": [
      "歡迎來到猜數字遊戲！\n",
      "我們將生成一個 1 到 100 之間的隨機數字，您需要猜出這個數字。\n",
      "請輸入您猜的數字（1-100），您還有 3 次機會：1\n",
      "猜的數字太小了，請再試一次。\n",
      "請輸入您猜的數字（1-100），您還有 2 次機會：2\n",
      "猜的數字太小了，請再試一次。\n",
      "請輸入您猜的數字（1-100），您還有 1 次機會：3\n",
      "猜的數字太小了，請再試一次。\n",
      "遊戲結束！您已使用完 3 次機會，答案是 94。\n"
     ]
    }
   ],
   "source": [
    "import random\n",
    "\n",
    "def guess_number_game():\n",
    "    print(\"歡迎來到猜數字遊戲！\")\n",
    "    print(\"我們將生成一個 1 到 100 之間的隨機數字，您需要猜出這個數字。\")\n",
    "    \n",
    "    # 生成隨機數字\n",
    "    secret_number = random.randint(1, 100)\n",
    "    attempts = 0\n",
    "    max_attempts = 3\n",
    "    \n",
    "    while attempts < max_attempts:\n",
    "        try:\n",
    "            guess = int(input(f\"請輸入您猜的數字（1-100），您還有 {max_attempts - attempts} 次機會：\"))\n",
    "            attempts += 1\n",
    "            \n",
    "            if guess < secret_number:\n",
    "                print(\"猜的數字太小了，請再試一次。\")\n",
    "            elif guess > secret_number:\n",
    "                print(\"猜的數字太大了，請再試一次。\")\n",
    "            else:\n",
    "                print(f\"恭喜你猜對了！答案是 {secret_number}\")\n",
    "                print(f\"您一共猜了 {attempts} 次。\")\n",
    "                return\n",
    "        \n",
    "        except ValueError:\n",
    "            print(\"請輸入有效的數字。\")\n",
    "    \n",
    "    print(f\"遊戲結束！您已使用完 {max_attempts} 次機會，答案是 {secret_number}。\")\n",
    "\n",
    "if __name__ == \"__main__\":\n",
    "    guess_number_game()\n"
   ]
  },
  {
   "cell_type": "code",
   "execution_count": 9,
   "id": "7efb9df6",
   "metadata": {},
   "outputs": [
    {
     "name": "stdout",
     "output_type": "stream",
     "text": [
      "Defaulting to user installation because normal site-packages is not writeable\n",
      "Requirement already satisfied: requests in c:\\programdata\\anaconda3\\lib\\site-packages (2.28.1)\n",
      "Requirement already satisfied: beautifulsoup4 in c:\\programdata\\anaconda3\\lib\\site-packages (4.11.1)\n",
      "Requirement already satisfied: urllib3<1.27,>=1.21.1 in c:\\programdata\\anaconda3\\lib\\site-packages (from requests) (1.26.14)\n",
      "Requirement already satisfied: certifi>=2017.4.17 in c:\\programdata\\anaconda3\\lib\\site-packages (from requests) (2023.5.7)\n",
      "Requirement already satisfied: charset-normalizer<3,>=2 in c:\\programdata\\anaconda3\\lib\\site-packages (from requests) (2.0.4)\n",
      "Requirement already satisfied: idna<4,>=2.5 in c:\\programdata\\anaconda3\\lib\\site-packages (from requests) (3.4)\n",
      "Requirement already satisfied: soupsieve>1.2 in c:\\programdata\\anaconda3\\lib\\site-packages (from beautifulsoup4) (2.3.2.post1)\n",
      "Note: you may need to restart the kernel to use updated packages.\n"
     ]
    }
   ],
   "source": [
    "pip install requests beautifulsoup4"
   ]
  },
  {
   "cell_type": "code",
   "execution_count": 13,
   "id": "33c4c414",
   "metadata": {},
   "outputs": [
    {
     "name": "stdout",
     "output_type": "stream",
     "text": [
      "1 x 1 = 1\n",
      "1 x 2 = 2\n",
      "1 x 3 = 3\n",
      "1 x 4 = 4\n",
      "1 x 5 = 5\n",
      "1 x 6 = 6\n",
      "1 x 7 = 7\n",
      "1 x 8 = 8\n",
      "1 x 9 = 9\n",
      "2 x 1 = 2\n",
      "2 x 2 = 4\n",
      "2 x 3 = 6\n",
      "2 x 4 = 8\n",
      "2 x 5 = 10\n",
      "2 x 6 = 12\n",
      "2 x 7 = 14\n",
      "2 x 8 = 16\n",
      "2 x 9 = 18\n",
      "3 x 1 = 3\n",
      "3 x 2 = 6\n",
      "3 x 3 = 9\n",
      "3 x 4 = 12\n",
      "3 x 5 = 15\n",
      "3 x 6 = 18\n",
      "3 x 7 = 21\n",
      "3 x 8 = 24\n",
      "3 x 9 = 27\n",
      "4 x 1 = 4\n",
      "4 x 2 = 8\n",
      "4 x 3 = 12\n",
      "4 x 4 = 16\n",
      "4 x 5 = 20\n",
      "4 x 6 = 24\n",
      "4 x 7 = 28\n",
      "4 x 8 = 32\n",
      "4 x 9 = 36\n",
      "5 x 1 = 5\n",
      "5 x 2 = 10\n",
      "5 x 3 = 15\n",
      "5 x 4 = 20\n",
      "5 x 5 = 25\n",
      "5 x 6 = 30\n",
      "5 x 7 = 35\n",
      "5 x 8 = 40\n",
      "5 x 9 = 45\n",
      "6 x 1 = 6\n",
      "6 x 2 = 12\n",
      "6 x 3 = 18\n",
      "6 x 4 = 24\n",
      "6 x 5 = 30\n",
      "6 x 6 = 36\n",
      "6 x 7 = 42\n",
      "6 x 8 = 48\n",
      "6 x 9 = 54\n",
      "7 x 1 = 7\n",
      "7 x 2 = 14\n",
      "7 x 3 = 21\n",
      "7 x 4 = 28\n",
      "7 x 5 = 35\n",
      "7 x 6 = 42\n",
      "7 x 7 = 49\n",
      "7 x 8 = 56\n",
      "7 x 9 = 63\n",
      "8 x 1 = 8\n",
      "8 x 2 = 16\n",
      "8 x 3 = 24\n",
      "8 x 4 = 32\n",
      "8 x 5 = 40\n",
      "8 x 6 = 48\n",
      "8 x 7 = 56\n",
      "8 x 8 = 64\n",
      "8 x 9 = 72\n",
      "9 x 1 = 9\n",
      "9 x 2 = 18\n",
      "9 x 3 = 27\n",
      "9 x 4 = 36\n",
      "9 x 5 = 45\n",
      "9 x 6 = 54\n",
      "9 x 7 = 63\n",
      "9 x 8 = 72\n",
      "9 x 9 = 81\n"
     ]
    }
   ],
   "source": [
    "def multiplication_table(n):\n",
    "    for i in range(1, n+1):\n",
    "        for j in range(1, n+1):\n",
    "            print(f\"{i} x {j} = {i*j}\")\n",
    "\n",
    "if __name__ == \"__main__\":\n",
    "    n = 9  # 控制乘法表大小，此处为九九乘法表\n",
    "    multiplication_table(n)"
   ]
  },
  {
   "cell_type": "code",
   "execution_count": 16,
   "id": "2013a0d2",
   "metadata": {},
   "outputs": [
    {
     "name": "stdout",
     "output_type": "stream",
     "text": [
      "请输入乘法表达式 (例如 1*1)，或輸入 'exit' 退出程序: 1*1\n",
      "1*1 = 1\n",
      "请输入乘法表达式 (例如 1*1)，或輸入 'exit' 退出程序: exit\n",
      "程序已退出。\n"
     ]
    }
   ],
   "source": [
    "def calculate_multiplication(expression):\n",
    "    try:\n",
    "        # 使用eval函数来计算表达式结果\n",
    "        result = eval(expression)\n",
    "        print(f\"{expression} = {result}\")\n",
    "    except Exception as e:\n",
    "        print(f\"無法计算 '{expression}': {e}\")\n",
    "\n",
    "if __name__ == \"__main__\":\n",
    "    while True:\n",
    "        expression = input(\"请输入乘法表达式 (例如 1*1)，或輸入 'exit' 退出程序: \")\n",
    "        \n",
    "        if expression.lower() == 'exit':\n",
    "            print(\"程序已退出。\")\n",
    "            break\n",
    "        \n",
    "        calculate_multiplication(expression)\n"
   ]
  },
  {
   "cell_type": "code",
   "execution_count": 23,
   "id": "1aae523b",
   "metadata": {},
   "outputs": [
    {
     "name": "stdout",
     "output_type": "stream",
     "text": [
      "1. 腦筋急轉彎2\n",
      "2. 亡命機劫\n",
      "3. 救援生死線\n",
      "4. 媽的人生願望\n",
      "5. 絕地戰警：生死與共\n",
      "6. 金孫爆富攻略\n",
      "7. 屍油降\n",
      "8. 九龍城寨之圍城\n",
      "9. 逃出狂鯊島\n",
      "10. 加菲貓：農場大冒險\n"
     ]
    }
   ],
   "source": [
    "import requests\n",
    "from bs4 import BeautifulSoup\n",
    "\n",
    "url = \"https://today.line.me/tw/v2/movie/chart/trending\"\n",
    "response = requests.get(url)\n",
    "soup = BeautifulSoup(response.text, \"html.parser\")\n",
    "titles = soup.find_all(\"h2\", class_=\"detailListItem-title\")\n",
    "\n",
    "# Print the top 10 trending movie titles\n",
    "for i, title in enumerate(titles[:10], start=1):\n",
    "    print(f\"{i}. {title.text.strip()}\")"
   ]
  },
  {
   "cell_type": "code",
   "execution_count": 30,
   "id": "34397857",
   "metadata": {},
   "outputs": [
    {
     "name": "stdout",
     "output_type": "stream",
     "text": [
      "1*1 = 1\n"
     ]
    }
   ],
   "source": [
    "try:\n",
    "    expression = \"1*1\"  # Replace with your expression or variable \n",
    "    # Evaluate the expression using eval()\n",
    "    result = eval(expression)\n",
    "    # Print the result\n",
    "    print(f\"{expression} = {result}\")\n",
    "except Exception as e:\n",
    "    print(\"查無此乘法\")\n",
    "    print(f\"Error: {e}\")"
   ]
  },
  {
   "cell_type": "code",
   "execution_count": 31,
   "id": "f98667ef",
   "metadata": {},
   "outputs": [
    {
     "name": "stdout",
     "output_type": "stream",
     "text": [
      "請輸入中文字:國\n"
     ]
    },
    {
     "data": {
      "text/plain": [
       "'https://dict.revised.moe.edu.tw/search.jsp?md=1&word=國#searchL'"
      ]
     },
     "execution_count": 31,
     "metadata": {},
     "output_type": "execute_result"
    }
   ],
   "source": [
    "word = input( '請輸入中文字:' )\n",
    "url = f'https://dict.revised.moe.edu.tw/search.jsp?md=1&word={word}#searchL'\n",
    "url"
   ]
  },
  {
   "cell_type": "code",
   "execution_count": 38,
   "id": "ea083eb6",
   "metadata": {},
   "outputs": [
    {
     "name": "stdout",
     "output_type": "stream",
     "text": [
      "請輸入中文字:國\n",
      "國 => ㄍㄨㄛˊ\n"
     ]
    }
   ],
   "source": [
    "import requests\n",
    "from bs4 import BeautifulSoup\n",
    "\n",
    "def read(word):\n",
    "    url = f'https://dict.revised.moe.edu.tw/search.jsp?md=1&word={word}#searchL'\n",
    "\n",
    "    # Send a GET request to the URL\n",
    "    response = requests.get(url)\n",
    "\n",
    "    # Check if the request was successful\n",
    "    if response.status_code == 200:\n",
    "        # Parse the HTML content using BeautifulSoup\n",
    "        soup = BeautifulSoup(response.text, 'html.parser')\n",
    "\n",
    "        # Find the table with id 'searchL'\n",
    "        data = soup.find('table', id='searchL')\n",
    "\n",
    "        try:\n",
    "            # Attempt to find the third row (index 2)\n",
    "            row = data.find_all('tr')[2]\n",
    "            chinese = row.find('cr').text\n",
    "            phones = row.find_all('code')\n",
    "            phone = ' / '.join(e.text for e in phones)\n",
    "            print(f\"{chinese} => {phone}\")\n",
    "        except Exception as e:\n",
    "            print(f\"查無此字: {e}\")\n",
    "    else:\n",
    "        print(f\"Failed to retrieve content from {url}. Status code: {response.status_code}\")\n",
    "\n",
    "# Example usage:\n",
    "if __name__ == \"__main__\":\n",
    "    word = input('請輸入中文字:')\n",
    "    read(word)\n"
   ]
  },
  {
   "cell_type": "code",
   "execution_count": null,
   "id": "1b2c5e95",
   "metadata": {},
   "outputs": [],
   "source": []
  }
 ],
 "metadata": {
  "kernelspec": {
   "display_name": "Python 3 (ipykernel)",
   "language": "python",
   "name": "python3"
  },
  "language_info": {
   "codemirror_mode": {
    "name": "ipython",
    "version": 3
   },
   "file_extension": ".py",
   "mimetype": "text/x-python",
   "name": "python",
   "nbconvert_exporter": "python",
   "pygments_lexer": "ipython3",
   "version": "3.10.9"
  }
 },
 "nbformat": 4,
 "nbformat_minor": 5
}
