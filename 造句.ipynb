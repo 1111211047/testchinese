{
 "cells": [
  {
   "cell_type": "code",
   "execution_count": 1,
   "id": "7b9e3156-7aed-4b87-bb67-20c7fb398637",
   "metadata": {},
   "outputs": [
    {
     "name": "stdin",
     "output_type": "stream",
     "text": [
      "請輸入中文字: 造句\n"
     ]
    },
    {
     "data": {
      "text/plain": [
       "'https://dict.concised.moe.edu.tw/dictView.jsp?ID=37181&la=0&powerMode=0?md=1&word=造句#searchL'"
      ]
     },
     "execution_count": 1,
     "metadata": {},
     "output_type": "execute_result"
    }
   ],
   "source": [
    "word = input( '請輸入中文字:' )\n",
    "url = f'https://dict.concised.moe.edu.tw/dictView.jsp?ID=37181&la=0&powerMode=0?md=1&word={word}#searchL'\n",
    "url"
   ]
  },
  {
   "cell_type": "code",
   "execution_count": 34,
   "id": "472d9bff-5527-4ba4-82a3-edef7d0ad18b",
   "metadata": {},
   "outputs": [
    {
     "name": "stdin",
     "output_type": "stream",
     "text": [
      "請輸入中文字:  學\n"
     ]
    },
    {
     "name": "stdout",
     "output_type": "stream",
     "text": [
      "造句=> 學 是一個常見的漢字。\n",
      "造句=> 我正在學習如何寫 學。\n",
      "造句=> 學 字有很多不同的用法。\n",
      "造句=> 小明在作文中用了很多次 學 這個字。\n",
      "造句=> 請你告訴我 學 的意思。\n"
     ]
    }
   ],
   "source": [
    "import requests\n",
    "from bs4 import BeautifulSoup\n",
    "\n",
    "def get_word_info(word):\n",
    "    url = f'https://dict.concised.moe.edu.tw/search.jsp?md=1&word={word}#searchL'\n",
    "    html = requests.get(url)\n",
    "    bs = BeautifulSoup(html.text, 'lxml')\n",
    "    data = bs.find('table', id='searchL')\n",
    "    \n",
    "    try:\n",
    "        row = data.find_all('tr')[2]\n",
    "        chinese = row.find('td').text.strip()\n",
    "        phones = row.find_all('code')\n",
    "        pronunciation = \" \".join(e.text.strip() for e in phones)\n",
    "        return chinese, pronunciation\n",
    "    except (AttributeError, IndexError):\n",
    "        # Handle cases where the word or pronunciation data is not found\n",
    "        return None, None\n",
    "    except Exception as e:\n",
    "        # Handle any other unexpected exceptions\n",
    "        print(f\"An error occurred: {e}\")\n",
    "        return None, None\n",
    "\n",
    "def generate_sentence(word):\n",
    "    sentence_templates = [\n",
    "        f\"{word} 是一個常見的漢字。\",\n",
    "        f\"我正在學習如何寫 {word}。\",\n",
    "        f\"{word} 字有很多不同的用法。\",\n",
    "        f\"小明在作文中用了很多次 {word} 這個字。\",\n",
    "        f\"請你告訴我 {word} 的意思。\"\n",
    "    ]\n",
    "    return sentence_templates\n",
    "\n",
    "word = input('請輸入中文字: ')\n",
    "chinese, pronunciation = get_word_info(word)\n",
    "\n",
    "if chinese:\n",
    "    sentences = generate_sentence(word)\n",
    "    for sentence in sentences:\n",
    "        print(f\"造句=> {sentence}\")\n",
    "else:\n",
    "    print('查無此字')"
   ]
  },
  {
   "cell_type": "code",
   "execution_count": null,
   "id": "567725ad-7b8d-4f04-811c-1403ff14cbd4",
   "metadata": {},
   "outputs": [],
   "source": []
  }
 ],
 "metadata": {
  "kernelspec": {
   "display_name": "Python 3 (ipykernel)",
   "language": "python",
   "name": "python3"
  },
  "language_info": {
   "codemirror_mode": {
    "name": "ipython",
    "version": 3
   },
   "file_extension": ".py",
   "mimetype": "text/x-python",
   "name": "python",
   "nbconvert_exporter": "python",
   "pygments_lexer": "ipython3",
   "version": "3.11.7"
  }
 },
 "nbformat": 4,
 "nbformat_minor": 5
}
